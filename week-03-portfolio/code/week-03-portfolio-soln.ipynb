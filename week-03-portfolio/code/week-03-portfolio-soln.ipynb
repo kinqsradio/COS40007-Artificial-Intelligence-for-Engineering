{
 "cells": [
  {
   "cell_type": "code",
   "execution_count": null,
   "metadata": {},
   "outputs": [],
   "source": [
    "import os\n",
    "import sys\n",
    "HOME_DIR = '/Users/anhdang/Documents/Github/COS40007-Artificial-Intelligence-for-Engineering'\n",
    "os.chdir(HOME_DIR)\n",
    "\n",
    "DATASETS_DIR = f'{HOME_DIR}/datasets'\n",
    "DATA_DIR = f'{DATASETS_DIR}/01'\n",
    "DATASET_FILE = f'{DATA_DIR}/CCPP/Folds5x2_pp.ods'\n",
    "\n",
    "print(f'HOME_DIR: {HOME_DIR}')\n",
    "print(f'DATASETS_DIR: {DATASETS_DIR}')\n",
    "print(f'DATA_DIR: {DATA_DIR}')\n",
    "print(f'DATASET_FILE: {DATASET_FILE}')"
   ]
  },
  {
   "cell_type": "code",
   "execution_count": null,
   "metadata": {},
   "outputs": [],
   "source": [
    "!pip install --upgrade pip --quiet\n",
    "!pip install -r requirements.txt --quiet"
   ]
  }
 ],
 "metadata": {
  "language_info": {
   "name": "python"
  }
 },
 "nbformat": 4,
 "nbformat_minor": 2
}
